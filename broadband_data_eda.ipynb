{
 "cells": [
  {
   "cell_type": "code",
   "execution_count": 1,
   "metadata": {},
   "outputs": [],
   "source": [
    "import pandas as pd  \n",
    "import matplotlib.pyplot as plt"
   ]
  },
  {
   "cell_type": "code",
   "execution_count": 2,
   "metadata": {},
   "outputs": [
    {
     "name": "stdout",
     "output_type": "stream",
     "text": [
      "                     GEO_ID P001001        BlockCode\n",
      "0  1000000US010010201001000      61  010010201001000\n",
      "1  1000000US010010201001001       0  010010201001001\n",
      "2  1000000US010010201001002       0  010010201001002\n",
      "3  1000000US010010201001003      75  010010201001003\n",
      "4  1000000US010010201001004       0  010010201001004\n"
     ]
    }
   ],
   "source": [
    "# CREATING A DATAFRAME WITH POPULATION COUNT FOR EACH BLOCK\n",
    "\n",
    "\n",
    "drop_cols_pop = [\"NAME\", \"Unnamed: 73\"]\n",
    "drop_cols_pop += [f\"P001{str(i).zfill(3)}\" for i in range(2, 72)]\n",
    "\n",
    "states = [\"AL\", \"AK\", \"AZ\", \"AR\", \"CA\", \"CO\", \"CT\", \"DE\", \"FL\", \"GA\",\"HI\", \"ID\", \"IL\", \"IN\", \"IA\", \"KS\", \"KY\", \"LA\", \"ME\", \"MD\",\"MA\", \"MI\", \"MN\", \"MS\", \"MO\", \"MT\", \n",
    "          \"NE\", \"NV\", \"NH\", \"NJ\",\"NM\", \"NY\", \"NC\", \"ND\", \"OH\", \"OK\", \"OR\", \"PA\", \"RI\", \"SC\",\"SD\", \"TN\", \"TX\", \"UT\", \"VT\", \"VA\", \"WA\", \"WV\", \"WI\", \"WY\", \"DC\"]\n",
    "\n",
    "pops = []\n",
    "for state in states:\n",
    "    path = f\"..\\\\data\\\\population\\\\population_{state}.csv\"\n",
    "    state_df = pd.read_csv(\n",
    "        path,\n",
    "        low_memory=False,\n",
    "        usecols=lambda col: col not in drop_cols_pop\n",
    "    )\n",
    "    state_df = state_df.iloc[1:].reset_index(drop=True)\n",
    "    state_df[\"BlockCode\"] = state_df[\"GEO_ID\"].astype(str).str[-15:]\n",
    "    pops.append(state_df)\n",
    "pop = pd.concat(pops, ignore_index=True)\n",
    "\n",
    "print(pop.head()) "
   ]
  },
  {
   "cell_type": "code",
   "execution_count": null,
   "metadata": {},
   "outputs": [],
   "source": [
    "# CREATING A DATAFRAME WITH INTERNET SPEED FOR EACH BLOCK - DEC 2014\n",
    "\n",
    "\n",
    "chunks = pd.read_csv(r'..\\data\\broadband\\fixed_satellite_dec_2014.csv', encoding='latin1', chunksize=250000, low_memory=False, usecols=lambda col: col not in [\"LogRecNo\", \"StateAbbr\", \"Provider_Id\", \"ProviderName\", \"HoldingCompanyName\", \"HocoFinal\"])\n",
    "processed_chunks = []\n",
    "for chunk in chunks:\n",
    "    chunk['Date'] = '2015'\n",
    "    chunk['CountyCode'] = chunk['BlockCode'].astype(str).str[:5]\n",
    "    processed_chunks.append(chunk)\n",
    "df = pd.concat(processed_chunks, ignore_index=True)\n",
    "df.to_csv(r'..\\data\\broadband\\block_bb_2015.csv', index=False)"
   ]
  },
  {
   "cell_type": "code",
   "execution_count": 3,
   "metadata": {},
   "outputs": [],
   "source": [
    "block_bb_2015 = pd.read_csv(r'..\\data\\broadband\\block_bb_2015.csv', encoding='latin1')"
   ]
  },
  {
   "cell_type": "code",
   "execution_count": 4,
   "metadata": {},
   "outputs": [
    {
     "name": "stdout",
     "output_type": "stream",
     "text": [
      "         BlockCode  broadband_block  Date  CountyCode\n",
      "0  410430301001053                1  2015       41043\n",
      "1  410430302003099                0  2015       41043\n",
      "2  410430302003126                0  2015       41043\n",
      "3  410430302003153                0  2015       41043\n",
      "4  410430302003154                0  2015       41043\n",
      "11078297\n",
      "10852585\n",
      "2948210\n"
     ]
    }
   ],
   "source": [
    "# CREATING A DATAFRAME WITH A BROADBAND DUMMY FOR EACH BLOCK - DEC 2014\n",
    "\n",
    "\n",
    "block_bb_2015['broadband_provision'] = (block_bb_2015['MaxAdDown'] >= 100) & (block_bb_2015['MaxAdUp'] >= 20)\n",
    "block_bb_2015['broadband_block'] = block_bb_2015.groupby('BlockCode')['broadband_provision'].transform('any').astype(int)\n",
    "blocks_bb_2015_provision = block_bb_2015.drop_duplicates(subset='BlockCode')[['BlockCode', 'broadband_block', 'Date', 'CountyCode']]\n",
    "blocks_bb_2015_provision['BlockCode'] = blocks_bb_2015_provision['BlockCode'].astype(str).str.zfill(15)\n",
    "\n",
    "print(blocks_bb_2015_provision.head())  \n",
    "print(len(pop))\n",
    "print(len(blocks_bb_2015_provision)) \n",
    "print(blocks_bb_2015_provision['broadband_block'].sum())"
   ]
  },
  {
   "cell_type": "code",
   "execution_count": 5,
   "metadata": {},
   "outputs": [
    {
     "name": "stdout",
     "output_type": "stream",
     "text": [
      "                     GEO_ID P001001        BlockCode  broadband_block    Date  \\\n",
      "0  1000000US010010201001000      61  010010201001000              0.0  2015.0   \n",
      "1  1000000US010010201001001       0  010010201001001              0.0  2015.0   \n",
      "2  1000000US010010201001002       0  010010201001002              0.0  2015.0   \n",
      "3  1000000US010010201001003      75  010010201001003              0.0  2015.0   \n",
      "4  1000000US010010201001004       0  010010201001004              0.0  2015.0   \n",
      "\n",
      "   CountyCode  \n",
      "0     10010.0  \n",
      "1     10010.0  \n",
      "2     10010.0  \n",
      "3     10010.0  \n",
      "4     10010.0  \n",
      "11078297\n"
     ]
    }
   ],
   "source": [
    "# MERGING THE POPULATION AND DUMMY DATAFRAMES - DEC 2014\n",
    "\n",
    "\n",
    "county_bb_2015 = pop.merge(blocks_bb_2015_provision, on='BlockCode', how='left')\n",
    "\n",
    "print(county_bb_2015.head())  \n",
    "print(len(county_bb_2015)) "
   ]
  },
  {
   "cell_type": "code",
   "execution_count": 6,
   "metadata": {},
   "outputs": [
    {
     "name": "stderr",
     "output_type": "stream",
     "text": [
      "C:\\Users\\HP\\AppData\\Local\\Temp\\ipykernel_14904\\749592272.py:5: DeprecationWarning: DataFrameGroupBy.apply operated on the grouping columns. This behavior is deprecated, and in a future version of pandas the grouping columns will be excluded from the operation. Either pass `include_groups=False` to exclude the groupings or explicitly select the grouping columns after groupby to silence this warning.\n",
      "  county_bb_2015_provision = county_bb_2015.groupby('CountyCode').apply(\n"
     ]
    },
    {
     "name": "stdout",
     "output_type": "stream",
     "text": [
      "   CountyCode  county_provision\n",
      "0     10001.0          0.947532\n",
      "1     10003.0          0.980826\n",
      "2     10005.0          0.932461\n",
      "3     10010.0          0.000000\n",
      "4     10030.0          0.716457\n",
      "3197\n",
      "0.061723559037493006\n",
      "1056\n"
     ]
    },
    {
     "data": {
      "text/plain": [
       "(array([1714.,  182.,  143.,  121.,  117.,  146.,  156.,  153.,  150.,\n",
       "         315.]),\n",
       " array([0. , 0.1, 0.2, 0.3, 0.4, 0.5, 0.6, 0.7, 0.8, 0.9, 1. ]),\n",
       " <BarContainer object of 10 artists>)"
      ]
     },
     "execution_count": 6,
     "metadata": {},
     "output_type": "execute_result"
    },
    {
     "data": {
      "image/png": "[encoded data removed]",
      "text/plain": [
       "<Figure size 640x480 with 1 Axes>"
      ]
     },
     "metadata": {},
     "output_type": "display_data"
    }
   ],
   "source": [
    "# CREATING A DATAFRAME WITH A MEASURE OF BRODBAND AVAILABILITY FOR EACH COUNTY - DEC 2014\n",
    "\n",
    "\n",
    "county_bb_2015['P001001'] = pd.to_numeric(county_bb_2015['P001001'], errors='coerce')\n",
    "county_bb_2015_provision = county_bb_2015.groupby('CountyCode').apply(\n",
    "    lambda x: pd.Series({\n",
    "        'county_provision': (x['P001001'] * x['broadband_block']).sum() / x['P001001'].sum()\n",
    "        if x['P001001'].sum() > 0 else 0\n",
    "    })\n",
    ").reset_index()\n",
    "\n",
    "print(county_bb_2015_provision.head())  \n",
    "print(len(county_bb_2015_provision)) \n",
    "print(county_bb_2015_provision['county_provision'].median())\n",
    "print((county_bb_2015_provision['county_provision'] == 0).sum())\n",
    "plt.hist(county_bb_2015_provision['county_provision'], color='black')"
   ]
  },
  {
   "cell_type": "code",
   "execution_count": 7,
   "metadata": {},
   "outputs": [],
   "source": [
    "county_bb_2015_provision.to_csv(r'..\\data\\broadband\\county_bb_2015.csv', index=False)"
   ]
  },
  {
   "cell_type": "code",
   "execution_count": null,
   "metadata": {},
   "outputs": [],
   "source": [
    "# CREATING A DATAFRAME WITH INTERNET SPEED FOR EACH BLOCK - JUN 2015\n",
    "\n",
    "\n",
    "chunks = pd.read_csv(r'..\\data\\broadband\\fixed_satellite_jun_2015.csv', encoding='latin1', chunksize=250000, low_memory=False, usecols=lambda col: col not in [\"LogRecNo\", \"StateAbbr\", \"Provider_Id\", \"ProviderName\", \"HoldingCompanyName\", \"HocoFinal\"])\n",
    "processed_chunks = []\n",
    "for chunk in chunks:\n",
    "    chunk['Date'] = '2015.5'\n",
    "    chunk['CountyCode'] = chunk['BlockCode'].astype(str).str[:5]\n",
    "    processed_chunks.append(chunk)\n",
    "df = pd.concat(processed_chunks, ignore_index=True)\n",
    "df.to_csv(r'..\\data\\broadband\\block_bb_2015_5.csv', index=False)"
   ]
  },
  {
   "cell_type": "code",
   "execution_count": 3,
   "metadata": {},
   "outputs": [],
   "source": [
    "# CREATING A DATAFRAME WITH INTERNET SPEED FOR EACH BLOCK - DEC 2015\n",
    "\n",
    "\n",
    "chunks = pd.read_csv(r'..\\data\\broadband\\fixed_satellite_dec_2015.csv', encoding='latin1', chunksize=250000, low_memory=False, usecols=lambda col: col not in [\"LogRecNo\", \"StateAbbr\", \"Provider_Id\", \"ProviderName\", \"HoldingCompanyName\", \"HocoFinal\"])\n",
    "processed_chunks = []\n",
    "for chunk in chunks:\n",
    "    chunk['Date'] = '2016'\n",
    "    chunk['CountyCode'] = chunk['BlockCode'].astype(str).str[:5]\n",
    "    processed_chunks.append(chunk)\n",
    "df = pd.concat(processed_chunks, ignore_index=True)\n",
    "df.to_csv(r'..\\data\\broadband\\block_bb_2016.csv', index=False)"
   ]
  },
  {
   "cell_type": "code",
   "execution_count": 3,
   "metadata": {},
   "outputs": [],
   "source": [
    "# CREATING A DATAFRAME WITH INTERNET SPEED FOR EACH BLOCK - JUN 2016\n",
    "\n",
    "\n",
    "chunks = pd.read_csv(r'..\\data\\broadband\\fixed_satellite_jun_2016.csv', encoding='latin1', chunksize=250000, low_memory=False, usecols=lambda col: col not in [\"LogRecNo\", \"StateAbbr\", \"Provider_Id\", \"ProviderName\", \"HoldingCompanyName\", \"HocoFinal\"])\n",
    "processed_chunks = []\n",
    "for chunk in chunks:\n",
    "    chunk['Date'] = '2016.5'\n",
    "    chunk['CountyCode'] = chunk['BlockCode'].astype(str).str[:5]\n",
    "    processed_chunks.append(chunk)\n",
    "df = pd.concat(processed_chunks, ignore_index=True)\n",
    "df.to_csv(r'..\\data\\broadband\\block_bb_2016_5.csv', index=False)"
   ]
  },
  {
   "cell_type": "code",
   "execution_count": null,
   "metadata": {},
   "outputs": [],
   "source": [
    "# CREATING A DATAFRAME WITH INTERNET SPEED FOR EACH BLOCK - DEC 2016\n",
    "\n",
    "\n",
    "chunks = pd.read_csv(r'..\\data\\broadband\\fixed_satellite_dec_2016.csv', encoding='latin1', chunksize=250000, low_memory=False, usecols=lambda col: col not in [\"LogRecNo\", \"StateAbbr\", \"Provider_Id\", \"ProviderName\", \"HoldingCompanyName\", \"HocoFinal\"])\n",
    "processed_chunks = []\n",
    "for chunk in chunks:\n",
    "    chunk['Date'] = '2017'\n",
    "    chunk['CountyCode'] = chunk['BlockCode'].astype(str).str[:5]\n",
    "    processed_chunks.append(chunk)\n",
    "df = pd.concat(processed_chunks, ignore_index=True)\n",
    "df.to_csv(r'..\\data\\broadband\\block_bb_2017.csv', index=False)"
   ]
  },
  {
   "cell_type": "code",
   "execution_count": null,
   "metadata": {},
   "outputs": [],
   "source": [
    "# CREATING A DATAFRAME WITH INTERNET SPEED FOR EACH BLOCK - JUN 2017\n",
    "\n",
    "\n",
    "chunks = pd.read_csv(r'..\\data\\broadband\\fixed_satellite_jun_2017.csv', encoding='latin1', chunksize=250000, low_memory=False, usecols=lambda col: col not in [\"LogRecNo\", \"StateAbbr\", \"Provider_Id\", \"ProviderName\", \"HoldingCompanyName\", \"HocoFinal\"])\n",
    "processed_chunks = []\n",
    "for chunk in chunks:\n",
    "    chunk['Date'] = '2017.5'\n",
    "    chunk['CountyCode'] = chunk['BlockCode'].astype(str).str[:5]\n",
    "    processed_chunks.append(chunk)\n",
    "df = pd.concat(processed_chunks, ignore_index=True)\n",
    "df.to_csv(r'..\\data\\broadband\\block_bb_2017_5.csv', index=False)"
   ]
  },
  {
   "cell_type": "code",
   "execution_count": null,
   "metadata": {},
   "outputs": [],
   "source": [
    "# CREATING A DATAFRAME WITH INTERNET SPEED FOR EACH BLOCK - DEC 2017\n",
    "\n",
    "\n",
    "chunks = pd.read_csv(r'..\\data\\broadband\\fixed_satellite_dec_2017.csv', encoding='latin1', chunksize=250000, low_memory=False, usecols=lambda col: col not in [\"LogRecNo\", \"StateAbbr\", \"Provider_Id\", \"ProviderName\", \"HoldingCompanyName\", \"HocoFinal\"])\n",
    "processed_chunks = []\n",
    "for chunk in chunks:\n",
    "    chunk['Date'] = '2018'\n",
    "    chunk['CountyCode'] = chunk['BlockCode'].astype(str).str[:5]\n",
    "    processed_chunks.append(chunk)\n",
    "df = pd.concat(processed_chunks, ignore_index=True)\n",
    "df.to_csv(r'..\\data\\broadband\\block_bb_2018.csv', index=False)"
   ]
  },
  {
   "cell_type": "code",
   "execution_count": null,
   "metadata": {},
   "outputs": [],
   "source": [
    "# CREATING A DATAFRAME WITH INTERNET SPEED FOR EACH BLOCK - JUN 2018\n",
    "\n",
    "\n",
    "chunks = pd.read_csv(r'..\\data\\broadband\\fixed_satellite_jun_2018.csv', encoding='latin1', chunksize=250000, low_memory=False, usecols=lambda col: col not in [\"LogRecNo\", \"StateAbbr\", \"Provider_Id\", \"ProviderName\", \"HoldingCompanyName\", \"HocoFinal\"])\n",
    "processed_chunks = []\n",
    "for chunk in chunks:\n",
    "    chunk['Date'] = '2018.5'\n",
    "    chunk['CountyCode'] = chunk['BlockCode'].astype(str).str[:5]\n",
    "    processed_chunks.append(chunk)\n",
    "df = pd.concat(processed_chunks, ignore_index=True)\n",
    "df.to_csv(r'..\\data\\broadband\\block_bb_2018_5.csv', index=False)"
   ]
  },
  {
   "cell_type": "code",
   "execution_count": null,
   "metadata": {},
   "outputs": [],
   "source": [
    "# CREATING A DATAFRAME WITH INTERNET SPEED FOR EACH BLOCK - DEC 2018\n",
    "\n",
    "\n",
    "chunks = pd.read_csv(r'..\\data\\broadband\\fixed_satellite_dec_2018.csv', encoding='latin1', chunksize=250000, low_memory=False, usecols=lambda col: col not in [\"LogRecNo\", \"StateAbbr\", \"Provider_Id\", \"ProviderName\", \"HoldingCompanyName\", \"HocoFinal\"])\n",
    "processed_chunks = []\n",
    "for chunk in chunks:\n",
    "    chunk['Date'] = '2019'\n",
    "    chunk['CountyCode'] = chunk['BlockCode'].astype(str).str[:5]\n",
    "    processed_chunks.append(chunk)\n",
    "df = pd.concat(processed_chunks, ignore_index=True)\n",
    "df.to_csv(r'..\\data\\broadband\\block_bb_2019.csv', index=False)"
   ]
  },
  {
   "cell_type": "code",
   "execution_count": null,
   "metadata": {},
   "outputs": [],
   "source": [
    "# CREATING A DATAFRAME WITH INTERNET SPEED FOR EACH BLOCK - JUN 2019\n",
    "\n",
    "\n",
    "chunks = pd.read_csv(r'..\\data\\broadband\\fixed_satellite_jun_2019.csv', encoding='latin1', chunksize=250000, low_memory=False, usecols=lambda col: col not in [\"LogRecNo\", \"StateAbbr\", \"Provider_Id\", \"ProviderName\", \"HoldingCompanyName\", \"HocoFinal\"])\n",
    "processed_chunks = []\n",
    "for chunk in chunks:\n",
    "    chunk['Date'] = '2019.5'\n",
    "    chunk['CountyCode'] = chunk['BlockCode'].astype(str).str[:5]\n",
    "    processed_chunks.append(chunk)\n",
    "df = pd.concat(processed_chunks, ignore_index=True)\n",
    "df.to_csv(r'..\\data\\broadband\\block_bb_2019_5.csv', index=False)"
   ]
  },
  {
   "cell_type": "code",
   "execution_count": 4,
   "metadata": {},
   "outputs": [],
   "source": [
    "# CREATING A DATAFRAME WITH INTERNET SPEED FOR EACH BLOCK - DEC 2019\n",
    "\n",
    "\n",
    "chunks = pd.read_csv(r'..\\data\\broadband\\fixed_satellite_dec_2019.csv', encoding='latin1', chunksize=250000, low_memory=False, usecols=lambda col: col not in [\"LogRecNo\", \"StateAbbr\", \"Provider_Id\", \"ProviderName\", \"HoldingCompanyName\", \"HocoFinal\"])\n",
    "processed_chunks = []\n",
    "for chunk in chunks:\n",
    "    chunk['Date'] = '2020'\n",
    "    chunk['CountyCode'] = chunk['BlockCode'].astype(str).str[:5]\n",
    "    processed_chunks.append(chunk)\n",
    "df = pd.concat(processed_chunks, ignore_index=True)\n",
    "df.to_csv(r'..\\data\\broadband\\block_bb_2020.csv', index=False)"
   ]
  },
  {
   "cell_type": "code",
   "execution_count": 8,
   "metadata": {},
   "outputs": [],
   "source": [
    "block_bb_2020 = pd.read_csv(r'..\\data\\broadband\\block_bb_2020.csv', encoding='latin1')"
   ]
  },
  {
   "cell_type": "code",
   "execution_count": 9,
   "metadata": {},
   "outputs": [
    {
     "name": "stdout",
     "output_type": "stream",
     "text": [
      "         BlockCode  broadband_block  Date  CountyCode\n",
      "0  560379705001336                0  2020       56037\n",
      "1  560379705001391                0  2020       56037\n",
      "2  560379705001398                0  2020       56037\n",
      "3  560379705001399                0  2020       56037\n",
      "4  560379705001400                0  2020       56037\n",
      "11078297\n",
      "11165833\n",
      "6133711\n"
     ]
    }
   ],
   "source": [
    "# CREATING A DATAFRAME WITH A BROADBAND DUMMY FOR EACH BLOCK - DEC 2019\n",
    "\n",
    "\n",
    "block_bb_2020['broadband_provision'] = (block_bb_2020['MaxAdDown'] >= 100) & (block_bb_2020['MaxAdUp'] >= 20)\n",
    "block_bb_2020['broadband_block'] = block_bb_2020.groupby('BlockCode')['broadband_provision'].transform('any').astype(int)\n",
    "blocks_bb_2020_provision = block_bb_2020.drop_duplicates(subset='BlockCode')[['BlockCode', 'broadband_block', 'Date', 'CountyCode']]\n",
    "blocks_bb_2020_provision['BlockCode'] = blocks_bb_2020_provision['BlockCode'].astype(str).str.zfill(15)\n",
    "\n",
    "print(blocks_bb_2020_provision.head())  \n",
    "print(len(pop))\n",
    "print(len(blocks_bb_2020_provision)) \n",
    "print(blocks_bb_2020_provision['broadband_block'].sum())"
   ]
  },
  {
   "cell_type": "code",
   "execution_count": 10,
   "metadata": {},
   "outputs": [
    {
     "name": "stdout",
     "output_type": "stream",
     "text": [
      "                     GEO_ID P001001        BlockCode  broadband_block  Date  \\\n",
      "0  1000000US010010201001000      61  010010201001000                1  2020   \n",
      "1  1000000US010010201001001       0  010010201001001                1  2020   \n",
      "2  1000000US010010201001002       0  010010201001002                1  2020   \n",
      "3  1000000US010010201001003      75  010010201001003                1  2020   \n",
      "4  1000000US010010201001004       0  010010201001004                1  2020   \n",
      "\n",
      "   CountyCode  \n",
      "0       10010  \n",
      "1       10010  \n",
      "2       10010  \n",
      "3       10010  \n",
      "4       10010  \n",
      "11078297\n"
     ]
    }
   ],
   "source": [
    "# MERGING THE POPULATION AND DUMMY DATAFRAMES - DEC 2019\n",
    "\n",
    "\n",
    "county_bb_2020 = pop.merge(blocks_bb_2020_provision, on='BlockCode', how='left')\n",
    "\n",
    "print(county_bb_2020.head())  \n",
    "print(len(county_bb_2020)) "
   ]
  },
  {
   "cell_type": "code",
   "execution_count": 11,
   "metadata": {},
   "outputs": [
    {
     "name": "stderr",
     "output_type": "stream",
     "text": [
      "C:\\Users\\HP\\AppData\\Local\\Temp\\ipykernel_14904\\2803221292.py:5: DeprecationWarning: DataFrameGroupBy.apply operated on the grouping columns. This behavior is deprecated, and in a future version of pandas the grouping columns will be excluded from the operation. Either pass `include_groups=False` to exclude the groupings or explicitly select the grouping columns after groupby to silence this warning.\n",
      "  county_bb_2020_provision = county_bb_2020.groupby('CountyCode').apply(\n"
     ]
    },
    {
     "name": "stdout",
     "output_type": "stream",
     "text": [
      "   CountyCode  county_provision\n",
      "0       10001          0.962479\n",
      "1       10003          0.983942\n",
      "2       10005          0.945908\n",
      "3       10010          0.782320\n",
      "4       10030          0.768848\n",
      "3205\n",
      "0.7680241863773786\n",
      "112\n"
     ]
    },
    {
     "data": {
      "text/plain": [
       "(array([ 335.,  120.,  113.,  136.,  174.,  201.,  292.,  360.,  474.,\n",
       "        1000.]),\n",
       " array([0. , 0.1, 0.2, 0.3, 0.4, 0.5, 0.6, 0.7, 0.8, 0.9, 1. ]),\n",
       " <BarContainer object of 10 artists>)"
      ]
     },
     "execution_count": 11,
     "metadata": {},
     "output_type": "execute_result"
    },
    {
     "data": {
      "image/png": "[encoded data removed]",
      "text/plain": [
       "<Figure size 640x480 with 1 Axes>"
      ]
     },
     "metadata": {},
     "output_type": "display_data"
    }
   ],
   "source": [
    "# CREATING A DATAFRAME WITH A MEASURE OF BRODBAND AVAILABILITY FOR EACH COUNTY - DEC 2019\n",
    "\n",
    "\n",
    "county_bb_2020['P001001'] = pd.to_numeric(county_bb_2020['P001001'], errors='coerce')\n",
    "county_bb_2020_provision = county_bb_2020.groupby('CountyCode').apply(\n",
    "    lambda x: pd.Series({\n",
    "        'county_provision': (x['P001001'] * x['broadband_block']).sum() / x['P001001'].sum()\n",
    "        if x['P001001'].sum() > 0 else 0\n",
    "    })\n",
    ").reset_index()\n",
    "\n",
    "print(county_bb_2020_provision.head())  \n",
    "print(len(county_bb_2020_provision)) \n",
    "print(county_bb_2020_provision['county_provision'].median())\n",
    "print((county_bb_2020_provision['county_provision'] == 0).sum())\n",
    "plt.hist(county_bb_2020_provision['county_provision'], color='black')"
   ]
  },
  {
   "cell_type": "code",
   "execution_count": 12,
   "metadata": {},
   "outputs": [],
   "source": [
    "county_bb_2020_provision.to_csv(r'..\\data\\broadband\\county_bb_2020.csv', index=False)"
   ]
  }
 ],
 "metadata": {
  "kernelspec": {
   "display_name": "Python 3",
   "language": "python",
   "name": "python3"
  },
  "language_info": {
   "codemirror_mode": {
    "name": "ipython",
    "version": 3
   },
   "file_extension": ".py",
   "mimetype": "text/x-python",
   "name": "python",
   "nbconvert_exporter": "python",
   "pygments_lexer": "ipython3",
   "version": "3.13.2"
  }
 },
 "nbformat": 4,
 "nbformat_minor": 2
}
